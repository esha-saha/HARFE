{
 "cells": [
  {
   "cell_type": "code",
   "execution_count": 1,
   "metadata": {},
   "outputs": [],
   "source": [
    "import numpy as np\n",
    "from harfe import harfe\n",
    "from harfe.utils import *\n",
    "import csv\n"
   ]
  },
  {
   "cell_type": "markdown",
   "metadata": {},
   "source": [
    "### Load data and build the training and validation set"
   ]
  },
  {
   "cell_type": "code",
   "execution_count": 2,
   "metadata": {},
   "outputs": [],
   "source": [
    "xtr = csv.reader(open(\"propulsion_Xtrain.csv\"), delimiter = \",\")\n",
    "xte = csv.reader(open(\"propulsion_Xval.csv\"), delimiter = \",\")\n",
    "ytr = csv.reader(open(\"propulsion_Ytrain.csv\"), delimiter = \",\")\n",
    "yte = csv.reader(open(\"propulsion_Yval.csv\"), delimiter = \",\")\n",
    "\n",
    "X_train = np.array(list(xtr)).astype(\"float\")\n",
    "X_val = np.array(list(xte)).astype(\"float\")\n",
    "Y_train = (np.array(list(ytr)).astype(\"float\")).flatten()\n",
    "Y_val = (np.array(list(yte)).astype(\"float\")).flatten()\n"
   ]
  },
  {
   "cell_type": "markdown",
   "metadata": {},
   "source": [
    "### Define the relevant hyperparameters"
   ]
  },
  {
   "cell_type": "code",
   "execution_count": 3,
   "metadata": {},
   "outputs": [],
   "source": [
    "num_data_train = X_train.shape[0]                # number of data points for training data set\n",
    "num_data_val = X_val.shape[0]                    # number of data points for validation data set\n",
    "num_data_tot = num_data_train + num_data_val     # total points\n",
    "Nf = 15*num_data_train                           # number of features\n",
    "\n",
    "d = X_train.shape[1]                             # input dimension for target function; \n",
    "q = 2                                            # order of the function\n",
    " \n",
    "act = 'sin'                                      # activation function: sine, tanh, or relu\n",
    "Dict_type = 'SRF'                                # Dictionary type of the form sin(Wx + b)"
   ]
  },
  {
   "cell_type": "markdown",
   "metadata": {},
   "source": [
    "### Build the random feature matrix by sampling random weights and biases. \n",
    "### Use the HARFE algorithm to learn the coefficients and recover the function on validation set."
   ]
  },
  {
   "cell_type": "code",
   "execution_count": 4,
   "metadata": {},
   "outputs": [],
   "source": [
    "omega, bias = generate_omega_bias(rows = Nf, columns = d, weight = 1, par1 = -1, par2 = 1,\n",
    "                                 distribution = 'uniform', bool_bias = True, sparsity = q)\n",
    "    \n",
    "A_train = feature_matrix(X_train, omega, bias, activation = act, dictType = Dict_type)\n",
    "A_val = feature_matrix(X_val, omega, bias, activation = act, dictType = Dict_type)\n",
    "    \n",
    "scale_A = np.linalg.norm(A_train, axis = 0) \n",
    "\n",
    "A_train /= scale_A \n",
    "A_val /= scale_A\n",
    "    \n",
    "coeff, rel_error, iterations, _ = harfe(Y_train, A_train, N = Nf, s = 300, lam = 1e-10)\n"
   ]
  },
  {
   "cell_type": "markdown",
   "metadata": {},
   "source": [
    "### Recover learnt function on validation set "
   ]
  },
  {
   "cell_type": "code",
   "execution_count": 5,
   "metadata": {},
   "outputs": [
    {
     "name": "stdout",
     "output_type": "stream",
     "text": [
      "Mean square error: 6.908737473599776e-05 \n",
      "Iterations required: 2\n"
     ]
    }
   ],
   "source": [
    "# recover validation points from learnt coefficients\n",
    "y_val_rec = np.matmul(A_val, coeff)\n",
    "\n",
    "# Calculate the mean squared error on validation set\n",
    "mse = np.linalg.norm(y_val_rec.reshape(-1) - Y_val)**2/num_data_val\n",
    "print('Mean square error:', mse, '\\nIterations required:', iterations)"
   ]
  }
 ],
 "metadata": {
  "kernelspec": {
   "display_name": "Python 3",
   "language": "python",
   "name": "python3"
  },
  "language_info": {
   "codemirror_mode": {
    "name": "ipython",
    "version": 3
   },
   "file_extension": ".py",
   "mimetype": "text/x-python",
   "name": "python",
   "nbconvert_exporter": "python",
   "pygments_lexer": "ipython3",
   "version": "3.7.6"
  }
 },
 "nbformat": 4,
 "nbformat_minor": 4
}
