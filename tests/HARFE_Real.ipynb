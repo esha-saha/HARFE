{
 "cells": [
  {
   "cell_type": "code",
   "execution_count": 1,
   "metadata": {},
   "outputs": [],
   "source": [
    "import numpy as np\n",
    "\n",
    "import math\n",
    "\n",
    "\n",
    "import matplotlib.pyplot as plt\n",
    "\n",
    "from helpers import *\n",
    "from algorithms import *\n",
    "from data_simulation import *\n",
    "from get_data import *\n",
    "import time\n",
    "import csv\n"
   ]
  },
  {
   "cell_type": "code",
   "execution_count": 2,
   "metadata": {},
   "outputs": [
    {
     "name": "stdout",
     "output_type": "stream",
     "text": [
      "shape of input training and validation data is: (200, 15) (200, 15)\n",
      "shape of output training and validation data is: (200,) (200,)\n"
     ]
    },
    {
     "data": {
      "text/plain": [
       "[<matplotlib.lines.Line2D at 0x7fb4a0e36450>]"
      ]
     },
     "execution_count": 2,
     "metadata": {},
     "output_type": "execute_result"
    },
    {
     "data": {
      "image/png": "[encoded data removed]",
      "text/plain": [
       "<Figure size 432x288 with 1 Axes>"
      ]
     },
     "metadata": {
      "needs_background": "light"
     },
     "output_type": "display_data"
    }
   ],
   "source": [
    "dataset = 'propulsion'\n",
    "X_train, Y_train, X_val, Y_val = get_dataset_SALSA(dataset)\n",
    "# plt.plot(X_train,'.')\n",
    "# plt.plot(X_val,'.')\n",
    "plt.plot(Y_train,'.')\n",
    "plt.plot(Y_val,'.')"
   ]
  },
  {
   "cell_type": "code",
   "execution_count": 3,
   "metadata": {},
   "outputs": [
    {
     "data": {
      "text/plain": [
       "6.999999999912631e-07"
      ]
     },
     "execution_count": 3,
     "metadata": {},
     "output_type": "execute_result"
    }
   ],
   "source": [
    "np.mean(Y_train)"
   ]
  },
  {
   "cell_type": "code",
   "execution_count": 4,
   "metadata": {},
   "outputs": [
    {
     "name": "stdout",
     "output_type": "stream",
     "text": [
      "number of features is 3000\n"
     ]
    }
   ],
   "source": [
    "# np.random.seed(0)\n",
    "num_data_train = X_train.shape[0] # number of data points for training data set\n",
    "num_data_val = X_val.shape[0] # number of data points for validation data set\n",
    "num_data_tot = num_data_train + num_data_val\n",
    "N = 15*num_data_train # number of features\n",
    "\n",
    "print('number of features is',N)\n",
    "'''parameters to be changed everytime'''\n",
    "d = X_train.shape[1] # input dimension for target function; \n",
    "q = 2\n",
    "\n",
    "\n",
    "num_sets = 10 #number of to datasets\n",
    "act = 'sin'\n",
    "Dict_type = 'SRF'"
   ]
  },
  {
   "cell_type": "code",
   "execution_count": 5,
   "metadata": {},
   "outputs": [
    {
     "name": "stdout",
     "output_type": "stream",
     "text": [
      "sparsity level: 300\n"
     ]
    }
   ],
   "source": [
    "mu = 0.100 #1/np.sqrt(N) #0.1 makes no diff\n",
    "lam = 1e-12\n",
    "s = int(N/10) #------too much sparsity can make the errors fluctuate\n",
    "print('sparsity level:',s)\n",
    "e = 1e-05\n",
    "iter_htp = 50\n"
   ]
  },
  {
   "cell_type": "code",
   "execution_count": 6,
   "metadata": {},
   "outputs": [
    {
     "name": "stderr",
     "output_type": "stream",
     "text": [
      "/opt/anaconda3/lib/python3.7/site-packages/ipykernel_launcher.py:15: DeprecationWarning: time.clock has been deprecated in Python 3.3 and will be removed from Python 3.8: use time.perf_counter or time.process_time instead\n",
      "  from ipykernel import kernelapp as app\n",
      "/opt/anaconda3/lib/python3.7/site-packages/ipykernel_launcher.py:31: DeprecationWarning: time.clock has been deprecated in Python 3.3 and will be removed from Python 3.8: use time.perf_counter or time.process_time instead\n",
      "/opt/anaconda3/lib/python3.7/site-packages/ipykernel_launcher.py:32: DeprecationWarning: time.clock has been deprecated in Python 3.3 and will be removed from Python 3.8: use time.perf_counter or time.process_time instead\n"
     ]
    },
    {
     "name": "stdout",
     "output_type": "stream",
     "text": [
      "2.5840359999999998 seconds\n",
      "the rmse is 0.010544535118743092 at 0 iter 0.0001111872208704064 data fitting: 7.885256303570478e-05 reg term: 5.323847197485299e-06\n",
      "3.0542029999999993 seconds\n",
      "the rmse is 0.005589176378267173 at 1 iter 3.1238892587379756e-05 data fitting: 3.6564523959365645e-05 reg term: 6.54472893879102e-06\n",
      "2.6653010000000004 seconds\n",
      "the rmse is 0.005629665326553526 at 2 iter 3.169313168899902e-05 data fitting: 0.002192440157579059 reg term: 3.30182005007259e-06\n",
      "2.841510999999999 seconds\n",
      "the rmse is 0.006879346857540335 at 3 iter 4.732541318635008e-05 data fitting: 0.00042668471510260434 reg term: 3.9967202115080384e-06\n",
      "2.6595039999999983 seconds\n",
      "the rmse is 0.004606453069862809 at 4 iter 2.12194098848485e-05 data fitting: 0.0009551606420271571 reg term: 4.761569702772592e-06\n",
      "2.778796999999999 seconds\n",
      "the rmse is 0.007190971446931882 at 5 iter 5.17100703505896e-05 data fitting: 0.0018445469797253634 reg term: 4.218464222226689e-06\n",
      "2.3759300000000003 seconds\n",
      "the rmse is 0.007974381496331924 at 6 iter 6.359076024904099e-05 data fitting: 0.0002943386325465805 reg term: 2.111396794581556e-05\n",
      "2.6762980000000027 seconds\n",
      "the rmse is 0.005050891939059312 at 7 iter 2.551150938005434e-05 data fitting: 0.0003070791121800025 reg term: 5.427256016223633e-06\n",
      "3.268301000000001 seconds\n",
      "the rmse is 0.00775549012816555 at 8 iter 6.014762712807329e-05 data fitting: 0.001371238010906101 reg term: 5.409364296207919e-06\n",
      "2.859096000000001 seconds\n",
      "the rmse is 0.006555266947918472 at 9 iter 4.297152475847236e-05 data fitting: 0.0017870027429101507 reg term: 5.034465028842901e-06\n"
     ]
    }
   ],
   "source": [
    "mse_full = np.zeros(num_sets)\n",
    "Rmse_full = np.zeros(num_sets)\n",
    "relVal_error_full = np.zeros(num_sets)\n",
    "sparsity_full = np.zeros(num_sets)\n",
    "LossRegVal = np.zeros((num_sets,2))\n",
    "task = 'func'\n",
    "runtime = np.zeros(num_sets)\n",
    "for i in range(num_sets):\n",
    "\n",
    "#     X_train, Y_train, X_val, Y_val = get_dataset(dataset,num_data_train,num_data_val)\n",
    "    \n",
    "    Y_train_noisy = Y_train \n",
    "    Y_val_noisy = Y_val \n",
    "    \n",
    "    start_time = time.clock()\n",
    "    Omega,bias = generate_omega_bias(rows = N,columns = d,weight = 1,par1 = -1,par2 = 1,\n",
    "                                       distribution = 'uniform',bool_bias = True,sparsity = q)\n",
    "    \n",
    "    A_train = dictionary_SRF(X_train,Omega,bias,activation = act,dictType = Dict_type)\n",
    "    A_val = dictionary_SRF(X_val,Omega,bias,activation = act,dictType = Dict_type)\n",
    "    \n",
    "    scale_A = np.linalg.norm(A_train, axis = 0) \n",
    "#     scale_A = np.linalg.norm(A_train) \n",
    "    A_train /= scale_A \n",
    "    A_val /= scale_A\n",
    "    \n",
    "          \n",
    "    '''Run test using Hard Thresholding Pursuit'''\n",
    "    c0_htp = np.zeros(A_train.shape[1])\n",
    "    C_htp,error_htp,tot_iter_htp,sim = hard_thresh_pur_tik(A_train,Y_train_noisy,c0_htp,s,iter_htp,e,mu,lam,task)\n",
    "    print(time.clock() - start_time, \"seconds\")\n",
    "    runtime[i] = time.clock() - start_time\n",
    "    \n",
    "#     lasso_owl = OwlRegressor(weights=(alpha, beta))\n",
    "#     lasso_owl.fit(A_train, Y_train.reshape(-1))\n",
    "\n",
    "#     c_lasso_owl = lasso_owl.coef_\n",
    "    \n",
    "    '''Recover using the coefficients'''\n",
    "    ytrain_rec_htp = np.matmul(A_train,C_htp[:,tot_iter_htp-1])\n",
    "    yval_rec_htp = np.matmul(A_val,C_htp[:,tot_iter_htp-1])\n",
    "    \n",
    "    nnz_htp = sparsity(C_htp)\n",
    "    error_train_htp = rel_error(A_train,C_htp[:,tot_iter_htp-1],Y_train,task) \n",
    "    error_val_htp = rel_error(A_val,C_htp[:,tot_iter_htp-1],Y_val,task)\n",
    "    mseVal = np.linalg.norm(yval_rec_htp.flatten() - Y_val.flatten())**2/num_data_val\n",
    "    RMSEVal = np.sqrt(mseVal)\n",
    "    lossTrain = np.linalg.norm(ytrain_rec_htp.flatten() - Y_train)**2\n",
    "    lossVal = np.linalg.norm(yval_rec_htp.flatten() - Y_val)**2\n",
    "    regVal = lam*np.linalg.norm(C_htp[:,tot_iter_htp-1])**2\n",
    "    \n",
    "    mse_full[i] = mseVal\n",
    "    Rmse_full[i] = RMSEVal\n",
    "    relVal_error_full[i] = error_val_htp\n",
    "    sparsity_full[i] =  nnz_htp\n",
    "    LossRegVal[i,0] = lossVal\n",
    "    LossRegVal[i,1] = regVal\n",
    "    if i%1==0:\n",
    "        print('the rmse is',RMSEVal,'at',i,'iter',mseVal,'data fitting:',lossTrain,'reg term:', regVal)\n",
    "#     if mseVal<=0.26:\n",
    "#         break\n"
   ]
  },
  {
   "cell_type": "code",
   "execution_count": 7,
   "metadata": {},
   "outputs": [
    {
     "name": "stdout",
     "output_type": "stream",
     "text": [
      "\n",
      "Mean MSE: 4.8659556008421436e-05 \n",
      "Mean rel val error: 0.005955644407718419 \n",
      "Sparsity level: 6.0464 \n",
      "Loss value is 0.009731911201684287 \n",
      "Regularization value is 6.513220360994624e-06\n",
      "avg time taken: 2.7769787999999997\n",
      "\n",
      "Mean MSE: 4.8659556008421436e-05 , #features: 3000 , sparsity: 300 , lam: 1e-12 , q: 2 , final sparsity: 6.0464\n"
     ]
    }
   ],
   "source": [
    "mse = np.mean(mse_full)\n",
    "rmse = np.mean(Rmse_full)\n",
    "Val_error = np.mean(relVal_error_full)\n",
    "\n",
    "sparsity = np.mean(sparsity_full)\n",
    "loss = np.mean(LossRegVal[:,0])\n",
    "reg = np.mean(LossRegVal[:,1])\n",
    "print('\\nMean MSE:',mse,'\\nMean rel val error:',Val_error,\n",
    "     '\\nSparsity level:',sparsity,'\\nLoss value is',loss,'\\nRegularization value is',reg)\n",
    "print('avg time taken:',np.mean(runtime))\n",
    "print('\\nMean MSE:',mse,', #features:',N,', sparsity:',s,', lam:',lam,', q:',q, ', final sparsity:',sparsity)"
   ]
  },
  {
   "cell_type": "code",
   "execution_count": 8,
   "metadata": {},
   "outputs": [
    {
     "data": {
      "text/plain": [
       "[<matplotlib.lines.Line2D at 0x7fb4a28df4d0>]"
      ]
     },
     "execution_count": 8,
     "metadata": {},
     "output_type": "execute_result"
    },
    {
     "data": {
      "image/png": "[encoded data removed]",
      "text/plain": [
       "<Figure size 432x288 with 1 Axes>"
      ]
     },
     "metadata": {
      "needs_background": "light"
     },
     "output_type": "display_data"
    }
   ],
   "source": [
    "# #music\n",
    "# #0.6251\n",
    "# 0.6134; lam = 2.5; q=3; N=10k, s=666\n",
    "\n",
    "#insulin\n",
    "#1.0146\n",
    "#1.0194416824316146 lam = 2.5, q=3, N= 10*num_train, s = N/15 [ 1.0146180452269786(2.25),  1.016736965026263 (q=2,lam = 2.75)]\n",
    "#1.0156010117592444 lam = 2.5, q=2, N= 10*num_train, s = N/15\n",
    "\n",
    "#telemonitor\n",
    "# 0.0285; 0.0347\n",
    "# 0.0364514 @ lam = 0.1, q = 5, N = 15*num_train, s = N/15\n",
    "#Mean MSE: 0.0377919849688412 , #features: 20000 , sparsity: 800 , lam: 0.1 , q: 5\n",
    "# Mean MSE: 0.03700047825374643 , #features: 15000 , sparsity: 937 , lam: 0.1 , q: 5\n",
    "\n",
    "#speech\n",
    "#0.0224\n",
    "plt.plot(Y_train,'.')\n",
    "plt.plot(Y_val,'.')"
   ]
  },
  {
   "cell_type": "code",
   "execution_count": 9,
   "metadata": {},
   "outputs": [
    {
     "name": "stdout",
     "output_type": "stream",
     "text": [
      "(3000,)\n"
     ]
    },
    {
     "data": {
      "image/png": "[encoded data removed]",
      "text/plain": [
       "<Figure size 432x288 with 1 Axes>"
      ]
     },
     "metadata": {
      "needs_background": "light"
     },
     "output_type": "display_data"
    }
   ],
   "source": [
    "plot_hist_weights(C_htp[:,tot_iter_htp-1],s,d,Omega,Dict_type)"
   ]
  },
  {
   "cell_type": "code",
   "execution_count": 10,
   "metadata": {},
   "outputs": [],
   "source": [
    "# import numpy as np\n",
    "\n",
    "# import math\n",
    "\n",
    "\n",
    "# import matplotlib.pyplot as plt\n",
    "\n",
    "# from helpers import *\n",
    "# from algorithms import *\n",
    "# from data_simulation import *\n",
    "# from get_data import *\n",
    "# import time\n",
    "# import csv\n",
    "\n",
    "\n",
    "\n",
    "# tmp = csv.reader(open(\"DataFolder/superconduct/train.csv\"), delimiter = \",\")\n",
    "# x = list(tmp)\n",
    "# data = np.array(x[1:]).astype(\"float\")\n",
    "# print(data.shape)\n",
    "# X = data[:,0:81]\n",
    "# Y = data[:,81]\n",
    "# X_train, Y_train, X_val, Y_val = make_data_sets(X,Y,10663,10600)"
   ]
  },
  {
   "cell_type": "code",
   "execution_count": null,
   "metadata": {},
   "outputs": [],
   "source": []
  }
 ],
 "metadata": {
  "kernelspec": {
   "display_name": "Python 3",
   "language": "python",
   "name": "python3"
  },
  "language_info": {
   "codemirror_mode": {
    "name": "ipython",
    "version": 3
   },
   "file_extension": ".py",
   "mimetype": "text/x-python",
   "name": "python",
   "nbconvert_exporter": "python",
   "pygments_lexer": "ipython3",
   "version": "3.7.6"
  }
 },
 "nbformat": 4,
 "nbformat_minor": 4
}
