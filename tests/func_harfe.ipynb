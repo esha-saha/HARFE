{
 "cells": [
  {
   "cell_type": "code",
   "execution_count": 1,
   "metadata": {},
   "outputs": [],
   "source": [
    "import numpy as np\n",
    "\n",
    "import sys \n",
    "import os \n",
    "sys.path.append(os.path.abspath(\"/Users/eshasaha/Desktop/HARFE-main/harfe\"))\n",
    "# import test_standard.py\n",
    "\n",
    "from harfe import *\n",
    "from utils import *\n",
    "# !pip install git+https://github.com/esaha2703/HARFE.git\n",
    "# from harfe.harfe import harfe \n",
    "# from .data_simulation import generate_omega_bias,feature_matrix"
   ]
  },
  {
   "cell_type": "code",
   "execution_count": 2,
   "metadata": {},
   "outputs": [],
   "source": [
    "# np.random.seed(1)"
   ]
  },
  {
   "cell_type": "code",
   "execution_count": 3,
   "metadata": {},
   "outputs": [],
   "source": [
    "def target_func(X): \n",
    "    return 10*np.sin(np.pi*X[:,0]*X[:,1]) + 20*(X[:,2]-0.5)**2 + 10*X[:,3] + 5*X[:,4]\n"
   ]
  },
  {
   "cell_type": "code",
   "execution_count": 4,
   "metadata": {},
   "outputs": [],
   "source": [
    "# np.random.seed(0)\n",
    "num_data_train = 200 # number of data points for training data set\n",
    "num_data_val = 1000  # number of data points for validation data set\n",
    "num_data_tot = num_data_train + num_data_val\n",
    "\n",
    "\n",
    "'''parameters to be changed everytime'''\n",
    "d = 10 # input dimension for target function; d<10 suggested\n",
    "Nf = 10*num_data_train\n",
    "q=2\n",
    "\n",
    "\n",
    "mean = 0\n",
    "std = 1.0\n",
    "\n",
    "num_sets = 1 #number of to datasets\n",
    "act = 'sin'\n",
    "Dict_type = 'SRF'\n"
   ]
  },
  {
   "cell_type": "code",
   "execution_count": 5,
   "metadata": {},
   "outputs": [
    {
     "name": "stdout",
     "output_type": "stream",
     "text": [
      "(1000,) (1000,)\n"
     ]
    }
   ],
   "source": [
    "X_train = np.random.uniform(0,1,(num_data_train,d))\n",
    "Y_train = target_func(X_train) \n",
    "X_val = np.random.uniform(0,1,(num_data_val,d))\n",
    "Y_val = target_func(X_val)\n",
    "\n",
    "\n",
    "noise_train  = np.random.uniform(mean,std,(Y_train.shape[0]))\n",
    "noise_val  = np.random.uniform(mean,std,(Y_val.shape[0]))\n",
    "Y_train_noisy = Y_train + noise_train\n",
    "Y_val_noisy = Y_val + noise_val\n",
    "\n",
    "Omega,bias = generate_omega_bias(rows = Nf,columns = d,weight = 1,par1 = -1,par2 = 1,\n",
    "                                 distribution = 'norm-uni',bool_bias = True,sparsity = q)\n",
    "\n",
    "A_train = feature_matrix(X_train,Omega,bias,activation = act,dictType = Dict_type)\n",
    "A_val = feature_matrix(X_val,Omega,bias,activation = act,dictType = Dict_type)\n",
    "\n",
    "scale_A = np.linalg.norm(A_train, axis = 0) \n",
    "A_train /= scale_A \n",
    "A_val /= scale_A\n",
    "\n",
    "coeff,rel_error,iterations,_ = harfe(Y_train_noisy,A_train,N = Nf, s = 200, lam = 1e-3)\n",
    "\n",
    "\n",
    "y_val_rec = np.matmul(A_val,coeff)\n",
    "print(y_val_rec.reshape(-1).shape,Y_val.shape)\n",
    "mse = np.linalg.norm(y_val_rec.reshape(-1) - Y_val)**2/num_data_val\n",
    "\n"
   ]
  },
  {
   "cell_type": "code",
   "execution_count": 9,
   "metadata": {},
   "outputs": [
    {
     "name": "stdout",
     "output_type": "stream",
     "text": [
      "mean square error: 0.8262211060600497 \n",
      "Iterations required: 16\n"
     ]
    }
   ],
   "source": [
    "print('mean square error:',mse,'\\nIterations required:',iterations)"
   ]
  },
  {
   "cell_type": "code",
   "execution_count": 18,
   "metadata": {},
   "outputs": [
    {
     "data": {
      "image/png": "[encoded data removed]",
      "text/plain": [
       "<Figure size 432x288 with 1 Axes>"
      ]
     },
     "metadata": {
      "needs_background": "light"
     },
     "output_type": "display_data"
    }
   ],
   "source": [
    "x = np.linspace(np.min(Y_val),np.max(Y_val),1000)\n",
    "plt.plot(Y_val,y_val_rec,'.')\n",
    "plt.plot(x,x)\n",
    "plt.ylabel('Learnt Values')\n",
    "plt.xlabel('True Values')\n",
    "plt.axis('square')\n",
    "plt.show()"
   ]
  },
  {
   "cell_type": "code",
   "execution_count": null,
   "metadata": {},
   "outputs": [],
   "source": []
  }
 ],
 "metadata": {
  "kernelspec": {
   "display_name": "Python 3",
   "language": "python",
   "name": "python3"
  },
  "language_info": {
   "codemirror_mode": {
    "name": "ipython",
    "version": 3
   },
   "file_extension": ".py",
   "mimetype": "text/x-python",
   "name": "python",
   "nbconvert_exporter": "python",
   "pygments_lexer": "ipython3",
   "version": "3.7.6"
  }
 },
 "nbformat": 4,
 "nbformat_minor": 4
}
