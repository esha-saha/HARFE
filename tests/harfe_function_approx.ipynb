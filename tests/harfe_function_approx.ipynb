mse_full = np.zeros(num_sets)
Rmse_full = np.zeros(num_sets)
relVal_error_full = np.zeros(num_sets)
sparsity_full = np.zeros(num_sets)
LossRegVal = np.zeros((num_sets,2))
iter_req = np.zeros(num_sets)
time_vec = np.zeros(num_sets)
time1 = np.zeros(num_sets)
task = 'func'
for i in range(num_sets):
#     X = make_input_data(rows = num_data_tot,columns = d,par1 = 0,par2 = 1,
#                     par3 = None,par4 = None,ratio = None,method = 'uni')
#     Y = target_func(X)
#     X_train, Y_train, X_val, Y_val = make_data_sets(X,Y,num_data_train,num_data_val)
#     plt.plot(Y_train)

    X_train = np.random.uniform(-1,1,(num_data_train,d))
    Y_train = target_func(X_train) 
#     Y_train/=np.linalg.norm(Y_train)
    X_val = np.random.uniform(-1,1,(num_data_val,d))
    Y_val = target_func(X_val) #/np.linalg.norm(Y_train)
#     plt.plot(X_train,Y_train,'.')
#     X_train = np.zeros((num_data_train,d))
#     X_val = np.zeros((num_data_val,d))
#     for j in range(d):
#         X_train[:,j] = np.random.uniform(0,1,num_data_train)
#         X_val[:,j] = np.random.uniform(0,1,num_data_val)
#     Y_train = target_func(X_train) 
#     Y_val = target_func(X_val)
    
    noise_train  = np.random.normal(mean,std,(Y_train.shape[0]))
    noise_val  = np.random.normal(mean,std,(Y_val.shape[0]))
    Y_train_noisy = Y_train #+ noise_train
    Y_val_noisy = Y_val #+ noise_val
    
    Omega,bias = generate_omega_bias(rows = N,columns = d,weight = 1,par1 = -1,par2 = 1,
                                       distribution = 'SRF',bool_bias = True,sparsity = q)
    
    A_train = dictionary_SRF(X_train,Omega,bias,activation = act,dictType = Dict_type)
    A_val = dictionary_SRF(X_val,Omega,bias,activation = act,dictType = Dict_type)
    
    scale_A = np.linalg.norm(A_train, axis = 0) 
#     scale_A = np.linalg.norm(A_train) 
    A_train /= scale_A 
    A_val /= scale_A
    
#     print(np.linalg.norm(A_train[:,0]),np.linalg.norm(A_train[:,5]))
          
    '''Run test using Hard Thresholding Pursuit'''
    c0_htp = np.zeros(A_train.shape[1])
    
    start_time = time.time()
    C_htp,error_htp,tot_iter_htp,sim,time1[i] = hard_thresh_pur_tik(A_train,Y_train_noisy,c0_htp,s,iter_htp,e,mu,lam)
    end_time = time.time()  
    
    print(C_htp.shape,np.count_nonzero(C_htp))
    time_vec[i] = end_time - start_time
    ytrain_rec_htp = np.matmul(A_train,C_htp)
    yval_rec_htp = np.matmul(A_val,C_htp)
    
    iter_req[i] = tot_iter_htp
    
    nnz_htp = sparsity(C_htp)
    error_train_htp = rel_error(A_train,C_htp,Y_train,task) 
    error_val_htp = rel_error(A_val,C_htp,Y_val,task)
    mseVal = np.linalg.norm(yval_rec_htp.flatten() - Y_val.flatten())**2/num_data_val
    RMSEVal = np.sqrt(mseVal)
    lossVal = np.linalg.norm(yval_rec_htp.flatten() - Y_val)**2
    regVal = np.linalg.norm(C_htp)**2
    
    mse_full[i] = mseVal
    Rmse_full[i] = RMSEVal
    relVal_error_full[i] = error_val_htp
    sparsity_full[i] =  nnz_htp
    LossRegVal[i,0] = lossVal
    LossRegVal[i,1] = regVal
#     if i%10==0:
#         print('the rmse is',RMSEVal,'at',i,'iter')
#         print(tot_iter_htp)
#         plot_hist_weights(C_htp[:,tot_iter_htp-1],s,d,Omega,Dict_type)

# mse = np.median(mse_full)
# rmse = np.median(Rmse_full)
# Val_error = np.median(relVal_error_full)
